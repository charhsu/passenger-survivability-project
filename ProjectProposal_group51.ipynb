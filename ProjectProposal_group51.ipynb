{
 "cells": [
  {
   "cell_type": "markdown",
   "metadata": {},
   "source": [
    "# COGS 108 - Project Proposal"
   ]
  },
  {
   "cell_type": "markdown",
   "metadata": {},
   "source": [
    "# Names\n",
    "\n",
    "- Christine Tang\n",
    "- Charlene Hsu\n",
    "- Katelyn Chan\n",
    "- Khushi Raghuvanshi"
   ]
  },
  {
   "cell_type": "markdown",
   "metadata": {},
   "source": [
    "# Research Question"
   ]
  },
  {
   "cell_type": "markdown",
   "metadata": {},
   "source": [
    "What demographic factor had the largest influence on the survivability of individuals on Western passenger ships that sank in the 1900s and how did this change over the course of the century? "
   ]
  },
  {
   "cell_type": "markdown",
   "metadata": {},
   "source": [
    "## Background and Prior Work"
   ]
  },
  {
   "cell_type": "markdown",
   "metadata": {},
   "source": [
    "Our topic was inspired and supported by ideas from the sinking of the Titanic movie where survival rates varied based on many factors. We want to hone in on three specific ship sinkings that occurred from the early to the late 1900s, including the Titanic (1912), RMS Lusitania (1915), and the MS Estonia (1994) to determine relationships between the variables affecting the survival rate. We also want to look into the time (year) difference between the early and late 1900s to determine any relationships or differences between factors throughout the years due to significant historical events occurring throughout the 1900s, one being the second wave of the Feminist movement. \n",
    "\n",
    "From prior knowledge and exposure to the Titanic movie, we noticed that gender, age, and social class majorly affected the survival rates as safety boat availability prioritized women, children, and higher-class individuals. When conducting our own online research on ship sinkings, we came across a site that detailed the survival percentages based on gender and age <a name=\"cite_ref-1\"></a>[<sup>1</sup>](#cite_note-1), noting that first-class passengers “had the highest survival rate at 62 percent”, while women and children survival rates of about “75 percent and 50 percent respectively” <a name=\"cite_ref-1\"></a>[<sup>1</sup>](#cite_note-1). Since this information came from a scholarly source, we trust the quantitative data provided, however, we collected our own data sources from Kaggle that we will further analyze and explore to look into trends and relationships between all three ships which will allow us to explore more in-depth information and relationships over time. \n",
    "\n",
    "Moreover, another source regarding the survival rates depending on varying factors, focusing on gender and crew/passenger level on the ships hypothesizes that women have a higher survival rate if the passengers comply with the “WCF (Women and Children First)” rule. Depending on whether men are willing to give a helping hand to the innately inferior women (in terms of physical abilities), this source believes that the enforcement of the rule establishes the true survival rate on sinking ships (based on the Titanic and Lusitania findings). Ultimately, Mikael Elinder and Oscar Erixson found that cultural conditions play a large factor in the resulting survivability between men, women, and children during maritime disasters and how moral sentiments are taken into account in the moment <a name=\"cite_ref-2\"></a>[<sup>2</sup>](#cite_note-2). There are many confounding variables that affect survivability that are often overlooked, leading us with a desire to find concrete demographical evidence and later research into additional influential factors. \n",
    "\n",
    "\n",
    "1. <a name=\"cite_note-1\"></a> [^](#cite_ref-1) “Titanic.” Bowdoin, 2020, https://courses.bowdoin.edu/history-2203-fall-2020-kmoyniha/reflection/#:~:text=First%20class%20passengers%20had%20the,survived%20(Takis%2C%201999)\n",
    "2. <a name=\"cite_note-2\"></a> [^](#cite_ref-2) Elinder, Mikael, and Oscar Erixson. “Gender, Social Norms, and Survival in Maritime Disasters.” ReasearchGate, July 2012, https://www.researchgate.net/publication/230589088_Gender_Social_Norms_and_Survival_in_Maritime_Disasters \n",
    "3. “Titanic Survivors • Titanic Facts.” Titanic Facts, 13 July 2020, https://titanicfacts.net/titanic-survivors/\n",
    "4. Survival Rates of Passengers and Crew. Survival Rates of Children Are... | Download Scientific Diagram, https://www.researchgate.net/figure/Survival-rates-of-passengers-and-crew-Survival-rates-of-children-are-only-available-for_fig1_230589088 "
   ]
  },
  {
   "cell_type": "markdown",
   "metadata": {},
   "source": [
    "# Hypothesis\n"
   ]
  },
  {
   "cell_type": "markdown",
   "metadata": {},
   "source": [
    "Our hypothesis is that the relevance of personal characteristics to survival rate changed over time within the 20th century. We hypothesize that age and gender would be the factors affecting survival rate the most in the early 1900's, and we think that in the late 1900's their affect on survival rates decreased. Considering that our data sets consist of passenger ships from the 1900s, we predict that the correlation between passengers’ gender and their survivability would weaken over time due to the campaigns for gender equality and that the importance of different characteristics changed over time."
   ]
  },
  {
   "cell_type": "markdown",
   "metadata": {},
   "source": [
    "# Data"
   ]
  },
  {
   "cell_type": "markdown",
   "metadata": {},
   "source": [
    "Based on the information given in this dataset, we are hoping to observe age, sex, class, and ticket price as the main variables to observe how these variables affect the survival of the passengers. Ideally, the datasets would focus on passenger ships that sunk in the 1900s and include thorough and detailed information on each passenger’s age, class, gender, and ticket price. Every single passenger on each of the ships would be observed and documented to find the proportions of variables that may contribute to the survival rate of the passengers. We would be observing various ship sinking incidents, such as the Titanic, MS Estonia, and the RMS Lusitania are the main ones we will be analyzing. We will be focusing on the proportions of these variables instead of the count because the amount of passengers on each ship varies, which may alter the accuracy of our data if we use count instead of proportion.\n",
    "\n",
    "Titanic: https://www.kaggle.com/datasets/sakshisatre/titanic-dataset?select=Titanic+Dataset.csv\n",
    "\n",
    "\n",
    "MS Estonia: https://www.kaggle.com/datasets/christianlillelund/passenger-list-for-the-estonia-ferry-disaster \n",
    "\n",
    "\n",
    "RMS Lusitania: https://www.kaggle.com/datasets/rkkaggle2/rms-lusitania-complete-passenger-manifest/data "
   ]
  },
  {
   "cell_type": "markdown",
   "metadata": {},
   "source": [
    "# Ethics & Privacy"
   ]
  },
  {
   "cell_type": "markdown",
   "metadata": {},
   "source": [
    "We would exclude the names of everyone included in all 3 datasets that we’re going to use. Excluding names from the dataset is a good start to protect privacy. Regarding the lack of representation of certain ethnic groups, it's important to acknowledge that historical datasets like those from the 1900s often suffer from significant underrepresentation and bias. In the case of ships primarily from the US, Europe, or the UK, the passengers are likely to be predominantly white due to historical demographics and immigration patterns. This lack of diversity can lead to biased analyses and interpretations if not addressed properly.\n",
    "\n",
    "We would be transparent about the limitations of our analysis, one of them being that we only have 3 ship datasets to look at. We’re not going to try to generalize our predictions to the whole world, but we will be looking at the similarities between these Western country ships that sank and try to find factors that affected their survival rate.\n"
   ]
  },
  {
   "cell_type": "markdown",
   "metadata": {},
   "source": [
    "# Team Expectations "
   ]
  },
  {
   "cell_type": "markdown",
   "metadata": {},
   "source": [
    "* We meet at least once a week for at least an hour.\n",
    "* Meet in person at least bi-weekly to see our progress as a whole (2 hours).\n",
    "* Do the tasks that are delegated to you. \n",
    "* Try our best to stick to the timeline.\n",
    "* Communicate effectively with each other.\n",
    "* Be on time, or notify the team.\n",
    "* Be respectful of everyone's ideas. "
   ]
  },
  {
   "cell_type": "markdown",
   "metadata": {},
   "source": [
    "# Project Timeline Proposal"
   ]
  },
  {
   "cell_type": "markdown",
   "metadata": {},
   "source": [
    "Specify your team's specific project timeline. An example timeline has been provided. Changes the dates, times, names, and details to fit your group's plan.\n",
    "\n",
    "If you think you will need any special resources or training outside what we have covered in COGS 108 to solve your problem, then your proposal should state these clearly. For example, if you have selected a problem that involves implementing multiple neural networks, please state this so we can make sure you know what you’re doing and so we can point you to resources you will need to implement your project. Note that you are not required to use outside methods.\n",
    "\n",
    "\n",
    "\n",
    "| Meeting Date  | Meeting Time| Completed Before Meeting  | Discuss at Meeting |\n",
    "|---|---|---|---|\n",
    "| 4/26  |  5 PM | Look through old projects  | Determine best form of communication; Complete the project review and discuss the old projects. | \n",
    "| 5/3  |  5 PM |  Find topics that interest you, and the questions we might want to answer | Discuss and set on a project idea, try to find datasets we'd want to use; Complete the project proposal. | \n",
    "| 5/10  | 5 AM  | Look at the feedback for the proposal, and try to think on how we can approach our analysis | Revise the proposal ;Discuss Wrangling and possible analytical approaches; Assign group members to lead each specific part   |\n",
    "| 5/17  | 5 PM  | Import & Wrangle Data | Review the wrangling and discuss plan for analysis; Submit the Checkpoint #1 |\n",
    "| 5/24  | 5 PM  | Finalize wrangling/EDA; Begin Analysis | Discuss/edit Analysis, hopefully complete the analysis or discuss a plan to; |\n",
    "| 5/31  | 5 PM  | Complete analysis| Discuss the conclusions; Submit Checkpoint #2 |\n",
    "|  6/7  | 5 PM  | Draft results/conclusion/discussion | Finalize anything that's left|\n",
    "| 6/12  | Before 11:59 PM  | NA | Turn in Final Project & Group Project Surveys |"
   ]
  }
 ],
 "metadata": {
  "kernelspec": {
   "display_name": "Python 3 (ipykernel)",
   "language": "python",
   "name": "python3"
  },
  "language_info": {
   "codemirror_mode": {
    "name": "ipython",
    "version": 3
   },
   "file_extension": ".py",
   "mimetype": "text/x-python",
   "name": "python",
   "nbconvert_exporter": "python",
   "pygments_lexer": "ipython3",
   "version": "3.9.7"
  }
 },
 "nbformat": 4,
 "nbformat_minor": 2
}
